{
 "cells": [
  {
   "cell_type": "code",
   "execution_count": 6,
   "metadata": {},
   "outputs": [
    {
     "name": "stdout",
     "output_type": "stream",
     "text": [
      "Defaulting to user installation because normal site-packages is not writeable\n",
      "Requirement already satisfied: pandas in c:\\users\\даниил\\appdata\\roaming\\python\\python39\\site-packages (1.5.0)\n",
      "Requirement already satisfied: python-dateutil>=2.8.1 in c:\\users\\даниил\\appdata\\roaming\\python\\python39\\site-packages (from pandas) (2.8.2)\n",
      "Requirement already satisfied: numpy>=1.20.3 in c:\\users\\даниил\\appdata\\roaming\\python\\python39\\site-packages (from pandas) (1.23.4)\n",
      "Requirement already satisfied: pytz>=2020.1 in c:\\users\\даниил\\appdata\\roaming\\python\\python39\\site-packages (from pandas) (2022.4)\n",
      "Requirement already satisfied: six>=1.5 in c:\\users\\даниил\\appdata\\roaming\\python\\python39\\site-packages (from python-dateutil>=2.8.1->pandas) (1.16.0)\n",
      "Note: you may need to restart the kernel to use updated packages.\n"
     ]
    },
    {
     "name": "stderr",
     "output_type": "stream",
     "text": [
      "WARNING: You are using pip version 21.2.3; however, version 22.3.1 is available.\n",
      "You should consider upgrading via the 'c:\\Program Files (x86)\\Microsoft Visual Studio\\Shared\\Python39_64\\python.exe -m pip install --upgrade pip' command.\n"
     ]
    }
   ],
   "source": [
    "pip install pandas"
   ]
  },
  {
   "cell_type": "code",
   "execution_count": 7,
   "metadata": {},
   "outputs": [
    {
     "name": "stdout",
     "output_type": "stream",
     "text": [
      "Defaulting to user installation because normal site-packages is not writeable\n",
      "Requirement already satisfied: tensorflow in c:\\users\\даниил\\appdata\\roaming\\python\\python39\\site-packages (2.10.0)\n",
      "Requirement already satisfied: setuptools in c:\\program files (x86)\\microsoft visual studio\\shared\\python39_64\\lib\\site-packages (from tensorflow) (57.4.0)\n",
      "Requirement already satisfied: grpcio<2.0,>=1.24.3 in c:\\users\\даниил\\appdata\\roaming\\python\\python39\\site-packages (from tensorflow) (1.49.1)\n",
      "Requirement already satisfied: flatbuffers>=2.0 in c:\\users\\даниил\\appdata\\roaming\\python\\python39\\site-packages (from tensorflow) (22.9.24)\n",
      "Requirement already satisfied: numpy>=1.20 in c:\\users\\даниил\\appdata\\roaming\\python\\python39\\site-packages (from tensorflow) (1.23.4)\n",
      "Requirement already satisfied: wrapt>=1.11.0 in c:\\users\\даниил\\appdata\\roaming\\python\\python39\\site-packages (from tensorflow) (1.14.1)\n",
      "Requirement already satisfied: absl-py>=1.0.0 in c:\\users\\даниил\\appdata\\roaming\\python\\python39\\site-packages (from tensorflow) (1.3.0)\n",
      "Requirement already satisfied: opt-einsum>=2.3.2 in c:\\users\\даниил\\appdata\\roaming\\python\\python39\\site-packages (from tensorflow) (3.3.0)\n",
      "Requirement already satisfied: libclang>=13.0.0 in c:\\users\\даниил\\appdata\\roaming\\python\\python39\\site-packages (from tensorflow) (14.0.6)\n",
      "Requirement already satisfied: gast<=0.4.0,>=0.2.1 in c:\\users\\даниил\\appdata\\roaming\\python\\python39\\site-packages (from tensorflow) (0.4.0)\n",
      "Requirement already satisfied: termcolor>=1.1.0 in c:\\users\\даниил\\appdata\\roaming\\python\\python39\\site-packages (from tensorflow) (2.0.1)\n",
      "Requirement already satisfied: packaging in c:\\users\\даниил\\appdata\\roaming\\python\\python39\\site-packages (from tensorflow) (21.3)\n",
      "Requirement already satisfied: keras-preprocessing>=1.1.1 in c:\\users\\даниил\\appdata\\roaming\\python\\python39\\site-packages (from tensorflow) (1.1.2)\n",
      "Requirement already satisfied: protobuf<3.20,>=3.9.2 in c:\\users\\даниил\\appdata\\roaming\\python\\python39\\site-packages (from tensorflow) (3.19.6)\n",
      "Requirement already satisfied: tensorflow-io-gcs-filesystem>=0.23.1 in c:\\users\\даниил\\appdata\\roaming\\python\\python39\\site-packages (from tensorflow) (0.27.0)\n",
      "Requirement already satisfied: google-pasta>=0.1.1 in c:\\users\\даниил\\appdata\\roaming\\python\\python39\\site-packages (from tensorflow) (0.2.0)\n",
      "Requirement already satisfied: tensorflow-estimator<2.11,>=2.10.0 in c:\\users\\даниил\\appdata\\roaming\\python\\python39\\site-packages (from tensorflow) (2.10.0)\n",
      "Requirement already satisfied: keras<2.11,>=2.10.0 in c:\\users\\даниил\\appdata\\roaming\\python\\python39\\site-packages (from tensorflow) (2.10.0)\n",
      "Requirement already satisfied: tensorboard<2.11,>=2.10 in c:\\users\\даниил\\appdata\\roaming\\python\\python39\\site-packages (from tensorflow) (2.10.1)\n",
      "Requirement already satisfied: h5py>=2.9.0 in c:\\users\\даниил\\appdata\\roaming\\python\\python39\\site-packages (from tensorflow) (3.7.0)\n",
      "Requirement already satisfied: six>=1.12.0 in c:\\users\\даниил\\appdata\\roaming\\python\\python39\\site-packages (from tensorflow) (1.16.0)\n",
      "Requirement already satisfied: typing-extensions>=3.6.6 in c:\\users\\даниил\\appdata\\roaming\\python\\python39\\site-packages (from tensorflow) (4.4.0)\n",
      "Requirement already satisfied: astunparse>=1.6.0 in c:\\users\\даниил\\appdata\\roaming\\python\\python39\\site-packages (from tensorflow) (1.6.3)\n",
      "Requirement already satisfied: wheel<1.0,>=0.23.0 in c:\\users\\даниил\\appdata\\roaming\\python\\python39\\site-packages (from astunparse>=1.6.0->tensorflow) (0.37.1)\n",
      "Requirement already satisfied: requests<3,>=2.21.0 in c:\\users\\даниил\\appdata\\roaming\\python\\python39\\site-packages (from tensorboard<2.11,>=2.10->tensorflow) (2.28.1)\n",
      "Requirement already satisfied: markdown>=2.6.8 in c:\\users\\даниил\\appdata\\roaming\\python\\python39\\site-packages (from tensorboard<2.11,>=2.10->tensorflow) (3.4.1)\n",
      "Requirement already satisfied: google-auth<3,>=1.6.3 in c:\\users\\даниил\\appdata\\roaming\\python\\python39\\site-packages (from tensorboard<2.11,>=2.10->tensorflow) (2.12.0)\n",
      "Requirement already satisfied: tensorboard-plugin-wit>=1.6.0 in c:\\users\\даниил\\appdata\\roaming\\python\\python39\\site-packages (from tensorboard<2.11,>=2.10->tensorflow) (1.8.1)\n",
      "Requirement already satisfied: tensorboard-data-server<0.7.0,>=0.6.0 in c:\\users\\даниил\\appdata\\roaming\\python\\python39\\site-packages (from tensorboard<2.11,>=2.10->tensorflow) (0.6.1)\n",
      "Requirement already satisfied: werkzeug>=1.0.1 in c:\\users\\даниил\\appdata\\roaming\\python\\python39\\site-packages (from tensorboard<2.11,>=2.10->tensorflow) (2.2.2)\n",
      "Requirement already satisfied: google-auth-oauthlib<0.5,>=0.4.1 in c:\\users\\даниил\\appdata\\roaming\\python\\python39\\site-packages (from tensorboard<2.11,>=2.10->tensorflow) (0.4.6)\n",
      "Requirement already satisfied: cachetools<6.0,>=2.0.0 in c:\\users\\даниил\\appdata\\roaming\\python\\python39\\site-packages (from google-auth<3,>=1.6.3->tensorboard<2.11,>=2.10->tensorflow) (5.2.0)\n",
      "Requirement already satisfied: rsa<5,>=3.1.4 in c:\\users\\даниил\\appdata\\roaming\\python\\python39\\site-packages (from google-auth<3,>=1.6.3->tensorboard<2.11,>=2.10->tensorflow) (4.9)\n",
      "Requirement already satisfied: pyasn1-modules>=0.2.1 in c:\\users\\даниил\\appdata\\roaming\\python\\python39\\site-packages (from google-auth<3,>=1.6.3->tensorboard<2.11,>=2.10->tensorflow) (0.2.8)\n",
      "Requirement already satisfied: requests-oauthlib>=0.7.0 in c:\\users\\даниил\\appdata\\roaming\\python\\python39\\site-packages (from google-auth-oauthlib<0.5,>=0.4.1->tensorboard<2.11,>=2.10->tensorflow) (1.3.1)\n",
      "Requirement already satisfied: importlib-metadata>=4.4 in c:\\users\\даниил\\appdata\\roaming\\python\\python39\\site-packages (from markdown>=2.6.8->tensorboard<2.11,>=2.10->tensorflow) (5.0.0)\n",
      "Requirement already satisfied: zipp>=0.5 in c:\\users\\даниил\\appdata\\roaming\\python\\python39\\site-packages (from importlib-metadata>=4.4->markdown>=2.6.8->tensorboard<2.11,>=2.10->tensorflow) (3.9.0)\n",
      "Requirement already satisfied: pyasn1<0.5.0,>=0.4.6 in c:\\users\\даниил\\appdata\\roaming\\python\\python39\\site-packages (from pyasn1-modules>=0.2.1->google-auth<3,>=1.6.3->tensorboard<2.11,>=2.10->tensorflow) (0.4.8)\n",
      "Requirement already satisfied: charset-normalizer<3,>=2 in c:\\users\\даниил\\appdata\\roaming\\python\\python39\\site-packages (from requests<3,>=2.21.0->tensorboard<2.11,>=2.10->tensorflow) (2.1.1)\n",
      "Requirement already satisfied: urllib3<1.27,>=1.21.1 in c:\\users\\даниил\\appdata\\roaming\\python\\python39\\site-packages (from requests<3,>=2.21.0->tensorboard<2.11,>=2.10->tensorflow) (1.26.12)\n",
      "Requirement already satisfied: idna<4,>=2.5 in c:\\users\\даниил\\appdata\\roaming\\python\\python39\\site-packages (from requests<3,>=2.21.0->tensorboard<2.11,>=2.10->tensorflow) (3.4)\n",
      "Requirement already satisfied: certifi>=2017.4.17 in c:\\users\\даниил\\appdata\\roaming\\python\\python39\\site-packages (from requests<3,>=2.21.0->tensorboard<2.11,>=2.10->tensorflow) (2022.9.24)\n",
      "Requirement already satisfied: oauthlib>=3.0.0 in c:\\users\\даниил\\appdata\\roaming\\python\\python39\\site-packages (from requests-oauthlib>=0.7.0->google-auth-oauthlib<0.5,>=0.4.1->tensorboard<2.11,>=2.10->tensorflow) (3.2.1)\n",
      "Requirement already satisfied: MarkupSafe>=2.1.1 in c:\\users\\даниил\\appdata\\roaming\\python\\python39\\site-packages (from werkzeug>=1.0.1->tensorboard<2.11,>=2.10->tensorflow) (2.1.1)\n",
      "Requirement already satisfied: pyparsing!=3.0.5,>=2.0.2 in c:\\users\\даниил\\appdata\\roaming\\python\\python39\\site-packages (from packaging->tensorflow) (3.0.9)\n",
      "Note: you may need to restart the kernel to use updated packages.\n"
     ]
    },
    {
     "name": "stderr",
     "output_type": "stream",
     "text": [
      "WARNING: You are using pip version 21.2.3; however, version 22.3.1 is available.\n",
      "You should consider upgrading via the 'c:\\Program Files (x86)\\Microsoft Visual Studio\\Shared\\Python39_64\\python.exe -m pip install --upgrade pip' command.\n"
     ]
    }
   ],
   "source": [
    "pip install tensorflow"
   ]
  },
  {
   "cell_type": "code",
   "execution_count": 8,
   "metadata": {},
   "outputs": [
    {
     "name": "stdout",
     "output_type": "stream",
     "text": [
      "Defaulting to user installation because normal site-packages is not writeable\n",
      "Requirement already satisfied: sklearn in c:\\users\\даниил\\appdata\\roaming\\python\\python39\\site-packages (0.0)\n",
      "Requirement already satisfied: scikit-learn in c:\\users\\даниил\\appdata\\roaming\\python\\python39\\site-packages (from sklearn) (1.1.2)\n",
      "Requirement already satisfied: scipy>=1.3.2 in c:\\users\\даниил\\appdata\\roaming\\python\\python39\\site-packages (from scikit-learn->sklearn) (1.9.2)\n",
      "Requirement already satisfied: numpy>=1.17.3 in c:\\users\\даниил\\appdata\\roaming\\python\\python39\\site-packages (from scikit-learn->sklearn) (1.23.4)\n",
      "Requirement already satisfied: joblib>=1.0.0 in c:\\users\\даниил\\appdata\\roaming\\python\\python39\\site-packages (from scikit-learn->sklearn) (1.2.0)\n",
      "Requirement already satisfied: threadpoolctl>=2.0.0 in c:\\users\\даниил\\appdata\\roaming\\python\\python39\\site-packages (from scikit-learn->sklearn) (3.1.0)\n",
      "Note: you may need to restart the kernel to use updated packages.\n"
     ]
    },
    {
     "name": "stderr",
     "output_type": "stream",
     "text": [
      "WARNING: You are using pip version 21.2.3; however, version 22.3.1 is available.\n",
      "You should consider upgrading via the 'c:\\Program Files (x86)\\Microsoft Visual Studio\\Shared\\Python39_64\\python.exe -m pip install --upgrade pip' command.\n"
     ]
    }
   ],
   "source": [
    "pip install sklearn"
   ]
  },
  {
   "cell_type": "code",
   "execution_count": 9,
   "metadata": {},
   "outputs": [
    {
     "name": "stdout",
     "output_type": "stream",
     "text": [
      "Defaulting to user installation because normal site-packages is not writeable\n",
      "Requirement already satisfied: matplotlib in c:\\users\\даниил\\appdata\\roaming\\python\\python39\\site-packages (3.6.1)\n",
      "Requirement already satisfied: fonttools>=4.22.0 in c:\\users\\даниил\\appdata\\roaming\\python\\python39\\site-packages (from matplotlib) (4.37.4)\n",
      "Requirement already satisfied: python-dateutil>=2.7 in c:\\users\\даниил\\appdata\\roaming\\python\\python39\\site-packages (from matplotlib) (2.8.2)\n",
      "Requirement already satisfied: cycler>=0.10 in c:\\users\\даниил\\appdata\\roaming\\python\\python39\\site-packages (from matplotlib) (0.11.0)\n",
      "Requirement already satisfied: pyparsing>=2.2.1 in c:\\users\\даниил\\appdata\\roaming\\python\\python39\\site-packages (from matplotlib) (3.0.9)\n",
      "Requirement already satisfied: packaging>=20.0 in c:\\users\\даниил\\appdata\\roaming\\python\\python39\\site-packages (from matplotlib) (21.3)\n",
      "Requirement already satisfied: contourpy>=1.0.1 in c:\\users\\даниил\\appdata\\roaming\\python\\python39\\site-packages (from matplotlib) (1.0.5)\n",
      "Requirement already satisfied: kiwisolver>=1.0.1 in c:\\users\\даниил\\appdata\\roaming\\python\\python39\\site-packages (from matplotlib) (1.4.4)\n",
      "Requirement already satisfied: numpy>=1.19 in c:\\users\\даниил\\appdata\\roaming\\python\\python39\\site-packages (from matplotlib) (1.23.4)\n",
      "Requirement already satisfied: pillow>=6.2.0 in c:\\users\\даниил\\appdata\\roaming\\python\\python39\\site-packages (from matplotlib) (9.2.0)\n",
      "Requirement already satisfied: six>=1.5 in c:\\users\\даниил\\appdata\\roaming\\python\\python39\\site-packages (from python-dateutil>=2.7->matplotlib) (1.16.0)\n",
      "Note: you may need to restart the kernel to use updated packages.\n"
     ]
    },
    {
     "name": "stderr",
     "output_type": "stream",
     "text": [
      "WARNING: You are using pip version 21.2.3; however, version 22.3.1 is available.\n",
      "You should consider upgrading via the 'c:\\Program Files (x86)\\Microsoft Visual Studio\\Shared\\Python39_64\\python.exe -m pip install --upgrade pip' command.\n"
     ]
    }
   ],
   "source": [
    "pip install matplotlib"
   ]
  },
  {
   "cell_type": "code",
   "execution_count": 10,
   "metadata": {},
   "outputs": [
    {
     "name": "stdout",
     "output_type": "stream",
     "text": [
      "Defaulting to user installation because normal site-packages is not writeable\n",
      "Requirement already satisfied: numpy in c:\\users\\даниил\\appdata\\roaming\\python\\python39\\site-packages (1.23.4)\n",
      "Note: you may need to restart the kernel to use updated packages.\n"
     ]
    },
    {
     "name": "stderr",
     "output_type": "stream",
     "text": [
      "WARNING: You are using pip version 21.2.3; however, version 22.3.1 is available.\n",
      "You should consider upgrading via the 'c:\\Program Files (x86)\\Microsoft Visual Studio\\Shared\\Python39_64\\python.exe -m pip install --upgrade pip' command.\n"
     ]
    }
   ],
   "source": [
    "pip install numpy"
   ]
  },
  {
   "cell_type": "code",
   "execution_count": 11,
   "metadata": {},
   "outputs": [],
   "source": [
    "#Подключение модулей\n",
    "import numpy as np\n",
    "from tensorflow.keras.models import Sequential, load_model\n",
    "from tensorflow.keras.layers import Dense, Dropout\n",
    "from tensorflow.keras.preprocessing.sequence import pad_sequences\n",
    "from tensorflow.keras.datasets import imdb"
   ]
  },
  {
   "cell_type": "code",
   "execution_count": 12,
   "metadata": {},
   "outputs": [],
   "source": [
    "#Процедура для подготовки данных      \n",
    "def vectorize(sequences, dimension):\n",
    "    results = np.zeros((len(sequences), dimension))\n",
    "    for i, sequence in enumerate(sequences):\n",
    "        results[i, sequence] = 1\n",
    "    return results"
   ]
  },
  {
   "cell_type": "code",
   "execution_count": 13,
   "metadata": {},
   "outputs": [],
   "source": [
    "#Процедура для предобработки данных\n",
    "def preprocess(dimension):\n",
    "    #Загрузим датесет IMDb, который уже встроен в Keras\n",
    "    (X_train, y_train), (X_test, y_test) = imdb.load_data(num_words=dimension)\n",
    "    data = np.concatenate((X_train, X_test), axis=0)\n",
    "    targets = np.concatenate((y_train, y_test), axis=0)\n",
    "    #Вызываем процедуру для подготовки данных\n",
    "    data = vectorize(data, dimension)\n",
    "    #Преобразование переменных в тип float32\n",
    "    targets = np.array(targets).astype(\"float32\")\n",
    "    #Возвращаем разделённый датасет на обучающий и тестировочный наборы\n",
    "    return data[dimension:], targets[dimension:], data[:dimension], targets[:dimension]"
   ]
  },
  {
   "cell_type": "code",
   "execution_count": 14,
   "metadata": {},
   "outputs": [],
   "source": [
    "#Процедура для предобработки данных для тестирования модели     \n",
    "def encode(words):\n",
    "    #при помощи метода get_word_index() получаем числовые индексы для слов, известных датасету imdb\n",
    "    word_index = imdb.get_word_index()\n",
    "    my_word_index = {}\n",
    "    for k, v in word_index.items():\n",
    "        my_word_index[k]= v+3\n",
    "    arr = []\n",
    "    for word in words:\n",
    "        arr.append(my_word_index.get(word, 2))\n",
    "    #Максимальная длина отзыва 17    \n",
    "    res = pad_sequences([arr], value=0, padding=\"post\",maxlen=17)\n",
    "    return res"
   ]
  },
  {
   "cell_type": "code",
   "execution_count": 15,
   "metadata": {},
   "outputs": [],
   "source": [
    "#Процедура для разбиения предложение на слова, а затем выполняет преобразование созданной функцией encode\n",
    "def text_pred(text, dimension, folder):\n",
    "    words = text.split()\n",
    "    result = encode(words)\n",
    "    vector_text = vectorize(result, dimension)\n",
    "    model = load_model(folder)\n",
    "    print(\"\")\n",
    "    print(\"Текст - \", text)\n",
    "    print(\"Вероятность положительности отзыва: \" + str(model.predict(vector_text)[0][0]))"
   ]
  },
  {
   "cell_type": "code",
   "execution_count": 16,
   "metadata": {},
   "outputs": [],
   "source": [
    "#Процедура для вывода результатов\n",
    "def print_results(dimension, accuracy, loss):\n",
    "    print(\"\")\n",
    "    print(\"Размер вектора представления - \" + str(dimension))\n",
    "    print('Точность на тестовых данных:', accuracy)\n",
    "    print('Потери на тестовых данных:', loss)"
   ]
  },
  {
   "cell_type": "code",
   "execution_count": 17,
   "metadata": {},
   "outputs": [],
   "source": [
    "#Процедура для построения и настройки параметров компиляции была разработана функция\n",
    "def create_model(X_train, y_train, X_test, y_test, dimension, folder):\n",
    "    #ИНС состояла из двух повторяющихся блоков слоев (2 раза подряд полносвязный слой из 50 нейронов и разреживания (0.3 и 0.2))\n",
    "    model = Sequential()\n",
    "    model.add(Dense(50, activation = \"relu\", input_shape=(dimension, )))\n",
    "    model.add(Dropout(0.3, noise_shape=None, seed=None))\n",
    "    model.add(Dense(50, activation = \"relu\"))\n",
    "    model.add(Dropout(0.2, noise_shape=None, seed=None))\n",
    "    #Для решения задачи бинарной классификации использовался выходной слой из 1 нейрона с функцией активации\n",
    "    model.add(Dense(1, activation = \"sigmoid\"))\n",
    "    #В качестве оптимизатора использовалась «Adam», функции потерь «бинарная перекрестная энтропия», метрики – «accuracy». Модель сохранялась в каталоге с названием folder. \n",
    "    model.compile(optimizer = \"adam\", loss = \"binary_crossentropy\", metrics = [\"accuracy\"])\n",
    "    history = model.fit(X_train, y_train, epochs = 2, batch_size = 500, validation_data = (X_test, y_test))\n",
    "    model.save(folder)\n",
    "    #Данная функция возвращает последние значения точности и потерь на тестовой выборке из истории обучения\n",
    "    return history.history['val_accuracy'][-1], history.history['val_loss'][-1]"
   ]
  },
  {
   "cell_type": "code",
   "execution_count": 21,
   "metadata": {},
   "outputs": [
    {
     "name": "stdout",
     "output_type": "stream",
     "text": [
      "Epoch 1/2\n",
      "90/90 [==============================] - 1s 7ms/step - loss: 0.4070 - accuracy: 0.8170 - val_loss: 0.2691 - val_accuracy: 0.8920\n",
      "Epoch 2/2\n",
      "90/90 [==============================] - 1s 6ms/step - loss: 0.2441 - accuracy: 0.9041 - val_loss: 0.2575 - val_accuracy: 0.8960\n",
      "INFO:tensorflow:Assets written to: model1\\assets\n",
      "\n",
      "Размер вектора представления - 5000\n",
      "Точность на тестовых данных: 0.8960000276565552\n",
      "Потери на тестовых данных: 0.2575203776359558\n",
      "Epoch 1/2\n",
      "80/80 [==============================] - 1s 13ms/step - loss: 0.4229 - accuracy: 0.8125 - val_loss: 0.2710 - val_accuracy: 0.8928\n",
      "Epoch 2/2\n",
      "80/80 [==============================] - 1s 11ms/step - loss: 0.2259 - accuracy: 0.9134 - val_loss: 0.2659 - val_accuracy: 0.8946\n",
      "INFO:tensorflow:Assets written to: model2\\assets\n",
      "\n",
      "Размер вектора представления - 10000\n",
      "Точность на тестовых данных: 0.894599974155426\n",
      "Потери на тестовых данных: 0.26585450768470764\n",
      "Epoch 1/2\n",
      "70/70 [==============================] - 1s 19ms/step - loss: 0.4002 - accuracy: 0.8263 - val_loss: 0.2675 - val_accuracy: 0.8941\n",
      "Epoch 2/2\n",
      "70/70 [==============================] - 1s 14ms/step - loss: 0.2023 - accuracy: 0.9244 - val_loss: 0.2667 - val_accuracy: 0.8929\n",
      "INFO:tensorflow:Assets written to: model3\\assets\n",
      "\n",
      "Размер вектора представления - 15000\n",
      "Точность на тестовых данных: 0.8929333090782166\n",
      "Потери на тестовых данных: 0.26674124598503113\n",
      "Epoch 1/2\n",
      "60/60 [==============================] - 3s 52ms/step - loss: 0.4354 - accuracy: 0.8101 - val_loss: 0.2761 - val_accuracy: 0.8921\n",
      "Epoch 2/2\n",
      "60/60 [==============================] - 1s 21ms/step - loss: 0.2015 - accuracy: 0.9261 - val_loss: 0.2760 - val_accuracy: 0.8906\n",
      "INFO:tensorflow:Assets written to: model4\\assets\n",
      "\n",
      "Размер вектора представления - 20000\n",
      "Точность на тестовых данных: 0.8906499743461609\n",
      "Потери на тестовых данных: 0.2760027050971985\n"
     ]
    }
   ],
   "source": [
    "#Исследуем результаты при различном размере вектора представления текста и создаём модели для дальнейшего тестирования\n",
    "X_train1, y_train1, X_test1, y_test1 = preprocess(5000)\n",
    "accuracy1, loss1 = create_model(X_train1, y_train1, X_test1, y_test1, 5000, 'model1')\n",
    "print_results(5000, accuracy1, loss1)\n",
    "X_train2, y_train2, X_test2, y_test2 = preprocess(10000)\n",
    "accuracy2, loss2 = create_model(X_train2, y_train2, X_test2, y_test2, 10000, 'model2')\n",
    "print_results(10000, accuracy2, loss2)\n",
    "X_train3, y_train3, X_test3, y_test3 = preprocess(15000)\n",
    "accuracy3, loss3 = create_model(X_train3, y_train3, X_test3, y_test3, 15000, 'model3')\n",
    "print_results(15000, accuracy3, loss3)\n",
    "X_train4, y_train4, X_test4, y_test4 = preprocess(20000)\n",
    "accuracy4, loss4 = create_model(X_train4, y_train4, X_test4, y_test4, 20000, 'model4')\n",
    "print_results(20000, accuracy4, loss4)"
   ]
  },
  {
   "cell_type": "code",
   "execution_count": 19,
   "metadata": {},
   "outputs": [
    {
     "name": "stdout",
     "output_type": "stream",
     "text": [
      "\n",
      "Текст -  this movie isn't that bad\n",
      "1/1 [==============================] - 0s 64ms/step\n",
      "Вероятность положительности отзыва: 0.26349857\n",
      "\n",
      "Текст -  great movie, great acting, amazing scenery\n",
      "1/1 [==============================] - 0s 24ms/step\n",
      "Вероятность положительности отзыва: 0.8065244\n",
      "\n",
      "Текст -  the film is very dark, not interesting to watch, the acting is just terrible\n",
      "1/1 [==============================] - 0s 25ms/step\n",
      "Вероятность положительности отзыва: 0.15477958\n"
     ]
    }
   ],
   "source": [
    "#Прогноз успеха фильмов по обзорам\n",
    "text1 = \"this movie isn't that bad\"\n",
    "text_pred(text1, 10000, 'model2')\n",
    "text2 = \"great movie, great acting, amazing scenery\"\n",
    "text_pred(text2, 10000, 'model2')\n",
    "text3 = \"the film is very dark, not interesting to watch, the acting is just terrible\"\n",
    "text_pred(text3, 10000, 'model2')"
   ]
  }
 ],
 "metadata": {
  "kernelspec": {
   "display_name": "Python 3.9.7 64-bit",
   "language": "python",
   "name": "python3"
  },
  "language_info": {
   "codemirror_mode": {
    "name": "ipython",
    "version": 3
   },
   "file_extension": ".py",
   "mimetype": "text/x-python",
   "name": "python",
   "nbconvert_exporter": "python",
   "pygments_lexer": "ipython3",
   "version": "3.9.7 (tags/v3.9.7:1016ef3, Aug 30 2021, 20:19:38) [MSC v.1929 64 bit (AMD64)]"
  },
  "orig_nbformat": 4,
  "vscode": {
   "interpreter": {
    "hash": "c347c8f9a7ef94e4c9e03b4513be7835ed18f45b99a2a817fb579f408b867b16"
   }
  }
 },
 "nbformat": 4,
 "nbformat_minor": 2
}
